{
  "nbformat": 4,
  "nbformat_minor": 0,
  "metadata": {
    "colab": {
      "provenance": []
    },
    "kernelspec": {
      "name": "python3",
      "display_name": "Python 3"
    },
    "language_info": {
      "name": "python"
    }
  },
  "cells": [
    {
      "cell_type": "markdown",
      "source": [
        "1. Why are functions advantageous to have in your programs?\n"
      ],
      "metadata": {
        "id": "R5S7Tpwqs0Cr"
      }
    },
    {
      "cell_type": "markdown",
      "source": [
        "Ans:\n",
        "Functions have several benefits which are listed below:\n",
        "1. Reusability: Functions can be reused multiple times in a program, which saves time and effort. Once a function is defined, it can be called anywhere in the program where it is needed, eliminating the need to write the same code over and over again.\n",
        "2. Modularization: Functions break a program down into smaller, more manageable pieces, making it easier to read and maintain. By dividing the program into smaller modules, it's easier to debug, test, and make changes.\n",
        "3. Abstraction: Functions provide a level of abstraction that makes it easier to reason about a program. They hide the details of how a specific task is accomplished, allowing the programmer to focus on the bigger picture.\n",
        "4. Encapsulation: Functions encapsulate code and data, making it possible to create reusable and maintainable code. They allow the programmer to hide the implementation details of a particular module, making it easier to change or update the code later on.\n",
        "5. Efficiency: Functions can improve the performance of a program by reducing redundancy and optimizing code. By encapsulating code into functions, it's easier to identify and eliminate duplicated code, which can significantly reduce the program's size and improve its performance.\n",
        "\n",
        "Overall, functions are an essential tool in programming that can help improve code quality, reduce errors, and make it easier to write and maintain software."
      ],
      "metadata": {
        "id": "CUzkhhhbs1ts"
      }
    },
    {
      "cell_type": "markdown",
      "source": [
        "2. When does the code in a function run: when it's specified or when it's called?\n"
      ],
      "metadata": {
        "id": "0jx8yhy7uZhW"
      }
    },
    {
      "cell_type": "markdown",
      "source": [
        "Ans:-\n",
        "\n",
        "- The code inside a function in a program runs when the function is called, not when it is specified.\n",
        "\n",
        "- When a function is defined or specified, the code inside the function is not executed immediately. Instead, the function definition creates an object in memory that holds the code and any associated data or variables.\n",
        "\n",
        "- When the function is called or invoked, the code inside the function is executed, and any output or side effects are produced. The input values, known as arguments, are passed to the function, and the function returns a value or performs a task based on those arguments.\n",
        "\n",
        "- It's essential to note that the code inside the function only runs when it is explicitly called. Until then, the function definition remains idle in memory and does not execute. This delayed execution is a crucial aspect of the modular and efficient design of functions in programming.\n",
        "\n",
        "\n",
        "\n",
        "\n",
        "\n",
        "\n"
      ],
      "metadata": {
        "id": "qo2EdaunucSl"
      }
    },
    {
      "cell_type": "markdown",
      "source": [
        "3. What statement creates a function?"
      ],
      "metadata": {
        "id": "htJFIAQ-u_KD"
      }
    },
    {
      "cell_type": "markdown",
      "source": [
        "Ans:- In Python, the def statement is used to create a function.\n",
        "\n",
        "```\n",
        "def function_name(parameters):\n",
        "  \"\"\"\n",
        "  Docstring: Explains basic operation of function\n",
        "  \"\"\"\n",
        "  # Function body\n",
        "  return output\n",
        "```\n",
        "\n"
      ],
      "metadata": {
        "id": "gh-89qzzu_X2"
      }
    },
    {
      "cell_type": "markdown",
      "source": [
        "4. What is the difference between a function and a function call?\n"
      ],
      "metadata": {
        "id": "Kfa2iL-9u_i8"
      }
    },
    {
      "cell_type": "markdown",
      "source": [
        "Ans: A function is a named block of code that performs a specific task when called, whereas a function call is the act of invoking or executing a function.\n",
        "\n",
        "In other words, a function is a reusable piece of code that is defined once and can be called or invoked multiple times from different parts of the program. It usually takes input values, performs some operation on them, and optionally returns an output value. A function is defined using the \"def\" statement in most programming languages.\n",
        "\n",
        "On the other hand, a function call is an instruction in the program that causes the execution of the code inside the function. A function call passes one or more input values (arguments) to the function, which it uses to perform the desired operation. The function may also return an output value, which can be assigned to a variable or used in other parts of the program."
      ],
      "metadata": {
        "id": "tkSZoKFOu_mD"
      }
    },
    {
      "cell_type": "code",
      "source": [
        "def add(a,b):\n",
        "  \"\"\"\n",
        "  Addition of two numbers\n",
        "  \"\"\"\n",
        "  result=a + b\n",
        "  return result\n",
        "\n",
        "sum=add(3,4)\n",
        "print(f\"The sum of two numbers is {sum}\")"
      ],
      "metadata": {
        "colab": {
          "base_uri": "https://localhost:8080/"
        },
        "id": "dmYurUY9yopk",
        "outputId": "1ff50a9a-abf6-4f7f-fcf3-156a5bf95eff"
      },
      "execution_count": 8,
      "outputs": [
        {
          "output_type": "stream",
          "name": "stdout",
          "text": [
            "The sum of two numbers is 7\n"
          ]
        }
      ]
    },
    {
      "cell_type": "markdown",
      "source": [
        "5. How many global scopes are there in a Python program? How many local scopes?\n"
      ],
      "metadata": {
        "id": "yqxIKL9Iu_oL"
      }
    },
    {
      "cell_type": "markdown",
      "source": [
        "Ans: In Python, there is only one global scope per program. The global scope is created when the program starts and any variables defined in this scope can be accessed from anywhere in the program.\n",
        "\n",
        "However, the number of local scopes in a Python program can vary depending on how many functions are defined and how many times they are called. Every time a function is called, a new local scope is created for that function, and any variables defined within that function are only accessible within that local scope. Once the function returns, the local scope is destroyed.\n",
        "\n",
        "Therefore, the number of local scopes in a Python program can change dynamically based on how many times a function is called, and how many nested functions are defined within other functions."
      ],
      "metadata": {
        "id": "ztj6-GgZu_qz"
      }
    },
    {
      "cell_type": "markdown",
      "source": [
        "6. What happens to variables in a local scope when the function call returns?\n"
      ],
      "metadata": {
        "id": "I6fJNhclu_tv"
      }
    },
    {
      "cell_type": "markdown",
      "source": [
        "Ans: When a function call returns, the local variables defined within that function's scope are typically destroyed and their values are no longer accessible. This is because local variables only exist within the context of the function call and are not accessible from outside the function.\n",
        "\n",
        "When the function returns, the memory space allocated for those local variables is typically freed up and made available for other use by the program. The values of those variables are no longer stored in memory and cannot be accessed by the program."
      ],
      "metadata": {
        "id": "_qYk-5XUu_xU"
      }
    },
    {
      "cell_type": "markdown",
      "source": [
        "7. What is the concept of a return value? Is it possible to have a return value in an expression?\n"
      ],
      "metadata": {
        "id": "rll4DqwLqiJ0"
      }
    },
    {
      "cell_type": "markdown",
      "source": [
        "Ans: The concept of a return value is a fundamental aspect of functions in programming. A return value is the value that a function \"returns\" to the caller after it has completed its task. It is the mechanism by which a function can communicate its results or output to the rest of the program.\n",
        "\n",
        "In most programming languages, a function's return value is specified by using the return keyword followed by an expression that evaluates to the value that the function should return. For example, in Python, a function that returns the square of a number might be defined as follows:\n",
        "```\n",
        "def square(x):\n",
        "  return x*x\n",
        "```\n",
        "In this example, the return statement specifies that the function should return the value of x * x, which is the square of the input argument x.\n",
        "\n",
        "It is also possible to use a function's return value in an expression. In fact, this is a very common practice in programming. For example, consider the following Python code:\n",
        "```\n",
        "result=square(5)+square(8)\n",
        "```\n",
        "In this example, the square function is called twice, once with an input argument of 5 and once with an input argument of 3. The return values of these calls are then added together and assigned to the variable result.\n",
        "\n",
        "Overall, the concept of a return value is a fundamental building block of programming, and it allows functions to be used to perform complex calculations and operations that can then be used in other parts of the program."
      ],
      "metadata": {
        "id": "bQIex4izqi_Z"
      }
    },
    {
      "cell_type": "markdown",
      "source": [
        "8. If a function does not have a return statement, what is the return value of a call to that function?\n"
      ],
      "metadata": {
        "id": "27XRintEqjLX"
      }
    },
    {
      "cell_type": "markdown",
      "source": [
        "Ans: If a function does not have a return statement, the return value of a call to that function will typically be \"None\" in Python. This means that the function does not explicitly return a value, and so the result of the function call is undefined or has no value.\n",
        "\n",
        "For example, consider the following Python function that prints the value of a variable but does not have a return statement:\n"
      ],
      "metadata": {
        "id": "8N0bhLvHqjZZ"
      }
    },
    {
      "cell_type": "code",
      "source": [
        "def display(x):\n",
        "  print(f\"The displayed value is: {x}\")"
      ],
      "metadata": {
        "id": "Zp3qM1w1zAi_"
      },
      "execution_count": 1,
      "outputs": []
    },
    {
      "cell_type": "code",
      "source": [
        "result=display(45)\n",
        "print(result, type(result))"
      ],
      "metadata": {
        "colab": {
          "base_uri": "https://localhost:8080/"
        },
        "id": "SDiui8xwzRej",
        "outputId": "ab5325b5-555f-4416-ba73-f6ad758f2189"
      },
      "execution_count": 3,
      "outputs": [
        {
          "output_type": "stream",
          "name": "stdout",
          "text": [
            "The displayed value is 45\n",
            "None <class 'NoneType'>\n"
          ]
        }
      ]
    },
    {
      "cell_type": "markdown",
      "source": [
        "9. How do you make a function variable refer to the global variable?\n"
      ],
      "metadata": {
        "id": "keBxiFq0qjc9"
      }
    },
    {
      "cell_type": "markdown",
      "source": [
        "Ans: In Python, we can make a function variable refer to the global variable by using the \"**global**\" keyword to declare the variable as global within the function.\n",
        "```\n",
        "x=20\n",
        "\n",
        "def test_global():\n",
        "  global x\n",
        "  x=10\n",
        "  print(f\"Value of x inside the function is: {x}\")\n",
        "\n",
        "test_global()\n",
        "print(f\"Value of x outside the function is: {x}\")\n",
        "\n",
        "```\n",
        "\n",
        "In this example, the **global** keyword is used to indicate that the variable x should refer to the global variable x, rather than a local variable with the same name. When the function is called, it sets the value of the global variable x to 10 and then prints the value of x inside the function. When the function returns, the value of x outside the function is now 10, since the function modified the global variable."
      ],
      "metadata": {
        "id": "33pXL3CMqjhH"
      }
    },
    {
      "cell_type": "markdown",
      "source": [
        "10. What is the data type of None?"
      ],
      "metadata": {
        "id": "9PntTuW24V6T"
      }
    },
    {
      "cell_type": "markdown",
      "source": [
        "Ans: The data type of None in Python is NoneType. This is a special data type that has only one value, which is None. \n",
        "\n",
        "None is a special built-in constant that represents the absence of a value or the null value. It is often used to indicate that a variable or expression does not have a value or that a function does not return a value."
      ],
      "metadata": {
        "id": "BW8t74j_4V9d"
      }
    },
    {
      "cell_type": "markdown",
      "source": [
        "11. What does the sentence import areallyourpetsnamederic do?\n"
      ],
      "metadata": {
        "id": "KopNpAnA4WAW"
      }
    },
    {
      "cell_type": "markdown",
      "source": [
        "Ans: The sentence import areallyourpetsnamederic is not a valid Python import statement, and would typically result in a ModuleNotFoundError error "
      ],
      "metadata": {
        "id": "d2Hl4K6-4WDc"
      }
    },
    {
      "cell_type": "markdown",
      "source": [
        "12.  If you had a bacon() feature in a spam module, what would you call it after importing spam?\n"
      ],
      "metadata": {
        "id": "S9wDkkjQqjt9"
      }
    },
    {
      "cell_type": "markdown",
      "source": [
        "Ans: Assuming that the bacon() feature is already defined in the spam module, you can call it using the dot notation after importing spam. \n",
        "```\n",
        "import spam\n",
        "\n",
        "spam.bacon()\n",
        "```"
      ],
      "metadata": {
        "id": "5rgiwnEcJxCx"
      }
    },
    {
      "cell_type": "markdown",
      "source": [
        "13. What can you do to save a programme from crashing if it encounters an error?\n"
      ],
      "metadata": {
        "id": "UZfG00KrJxfL"
      }
    },
    {
      "cell_type": "markdown",
      "source": [
        "Ans: Exception Handling may be used to save a programme from crashing.  We can use try-except blocks to catch and handle exceptions that may occur during program execution. By catching exceptions, we can take appropriate action to recover from errors and keep your program running."
      ],
      "metadata": {
        "id": "3J7rYvVrJxi0"
      }
    },
    {
      "cell_type": "markdown",
      "source": [
        "14. What is the purpose of the try clause? What is the purpose of the except clause?\n",
        "\n"
      ],
      "metadata": {
        "id": "O1Ntci9-JxmK"
      }
    },
    {
      "cell_type": "markdown",
      "source": [
        "Ans: The try and except clauses are part of the Python syntax for exception handling.\n",
        "\n",
        "The try block is used to enclose a section of code that may raise an exception during execution. The purpose of the try block is to attempt to execute the code in a way that is protected against errors. If an error occurs during the execution of the code inside the try block, Python will raise an exception.\n",
        "\n",
        "The except block is used to handle the exception that was raised in the try block. The purpose of the except block is to provide an alternative course of action if an exception is raised. When an exception is raised in the try block, Python will look for an appropriate except block that matches the type of the raised exception. If a matching except block is found, the code in that block will be executed."
      ],
      "metadata": {
        "id": "BJjOMpW4KxKp"
      }
    },
    {
      "cell_type": "code",
      "source": [],
      "metadata": {
        "id": "GgDn2ScEuQfv"
      },
      "execution_count": null,
      "outputs": []
    }
  ]
}