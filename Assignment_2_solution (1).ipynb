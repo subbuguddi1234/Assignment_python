{
  "nbformat": 4,
  "nbformat_minor": 0,
  "metadata": {
    "colab": {
      "provenance": []
    },
    "kernelspec": {
      "name": "python3",
      "display_name": "Python 3"
    },
    "language_info": {
      "name": "python"
    }
  },
  "cells": [
    {
      "cell_type": "markdown",
      "source": [
        "1. What are the two values of the Boolean data type? How do you write them?"
      ],
      "metadata": {
        "id": "BTJCAfCtfzy0"
      }
    },
    {
      "cell_type": "markdown",
      "source": [
        "Ans: \n",
        "The two values of the Boolean data types are true and false. It can be written as follows:\n",
        "* True\n",
        "* False\n",
        "\n",
        "\n"
      ],
      "metadata": {
        "id": "6g1SmJ37hDQn"
      }
    },
    {
      "cell_type": "code",
      "source": [
        "True\n",
        "False"
      ],
      "metadata": {
        "colab": {
          "base_uri": "https://localhost:8080/"
        },
        "id": "xwjzQiqWhidK",
        "outputId": "f6469c49-6625-4a69-e1bd-4277ac1d55e7"
      },
      "execution_count": null,
      "outputs": [
        {
          "output_type": "execute_result",
          "data": {
            "text/plain": [
              "False"
            ]
          },
          "metadata": {},
          "execution_count": 2
        }
      ]
    },
    {
      "cell_type": "markdown",
      "source": [
        "2. What are the three different types of Boolean operators?"
      ],
      "metadata": {
        "id": "aGvEISpMf17H"
      }
    },
    {
      "cell_type": "markdown",
      "source": [
        "Ans: The three different types of Boolean operators are:\n",
        "- and\n",
        "- or\n",
        "- not"
      ],
      "metadata": {
        "id": "fSwXyIFDhwC5"
      }
    },
    {
      "cell_type": "markdown",
      "source": [
        "3. Make a list of each Boolean operator's truth tables (i.e. every possible combination of Boolean values for the operator and what it evaluate)."
      ],
      "metadata": {
        "id": "HLVgJvsPf2ZF"
      }
    },
    {
      "cell_type": "markdown",
      "source": [
        "- Truth table for AND \n",
        "\n",
        "A | B | Y\n",
        "- | - | -\n",
        "0 | 0 | 0\n",
        "0 | 1 | 0\n",
        "1 | 0 | 0\n",
        "1 | 1 | 1\n",
        "\n",
        "- Truth table for OR\n",
        "\n",
        "A | B | Y\n",
        "- | - | -\n",
        "0 | 0 | 0\n",
        "0 | 1 | 1\n",
        "1 | 0 | 1\n",
        "1 | 1 | 1\n",
        "\n",
        "- Truth table for NOT\n",
        "\n",
        "A | Y\n",
        "- | -\n",
        "0 | 1\n",
        "1 | 0 \n"
      ],
      "metadata": {
        "id": "6yCuDvoPiPl3"
      }
    },
    {
      "cell_type": "markdown",
      "source": [
        "5. What are the six comparison operators?\n"
      ],
      "metadata": {
        "id": "MNyugAVUf3Bi"
      }
    },
    {
      "cell_type": "markdown",
      "source": [
        "Ans:\n",
        "\n",
        "    \n",
        "**Comparision Operators**\n",
        "\n",
        "|Operator|Name|Example\n",
        "|:-:|:-:|:-:|\n",
        "| **==** |equal|x==y\n",
        "| **!=** |not equal|x!=y\n",
        "| **>** |greater than|x>y\n",
        "| **<** |less than|x<y\n",
        "| **>=** |greater than or equal to|x>=y\n",
        "| **<=** |less than or equal to|x<=y\n"
      ],
      "metadata": {
        "id": "wUY5JdkwkQ12"
      }
    },
    {
      "cell_type": "markdown",
      "source": [
        "4. What are the values of the following expressions?\n",
        "```\n",
        "(5 > 4) and (3 == 5)\n",
        "not (5 > 4)\n",
        "(5 > 4) or (3 == 5)\n",
        "not ((5 > 4) or (3 == 5))\n",
        "(True and True) and (True == False)\n",
        "(not False) or (not True)\n",
        "```"
      ],
      "metadata": {
        "id": "U7uW55oEf2tn"
      }
    },
    {
      "cell_type": "code",
      "source": [
        "(5 > 4) and (3 == 5)"
      ],
      "metadata": {
        "colab": {
          "base_uri": "https://localhost:8080/"
        },
        "id": "ifAQTy8JlcIu",
        "outputId": "41c2deeb-d96d-420e-eb7d-54566c60db0e"
      },
      "execution_count": null,
      "outputs": [
        {
          "output_type": "execute_result",
          "data": {
            "text/plain": [
              "False"
            ]
          },
          "metadata": {},
          "execution_count": 3
        }
      ]
    },
    {
      "cell_type": "code",
      "source": [
        "not (5 > 4)"
      ],
      "metadata": {
        "colab": {
          "base_uri": "https://localhost:8080/"
        },
        "id": "QMC64XEQlhsw",
        "outputId": "5bae2f15-b623-4787-e61e-6c19b8dd0a41"
      },
      "execution_count": null,
      "outputs": [
        {
          "output_type": "execute_result",
          "data": {
            "text/plain": [
              "False"
            ]
          },
          "metadata": {},
          "execution_count": 4
        }
      ]
    },
    {
      "cell_type": "code",
      "source": [
        "(5 > 4) or (3 == 5)"
      ],
      "metadata": {
        "colab": {
          "base_uri": "https://localhost:8080/"
        },
        "id": "9jdW7QHmlmCV",
        "outputId": "6bc321c2-a3a7-4746-9844-445e9eb867be"
      },
      "execution_count": null,
      "outputs": [
        {
          "output_type": "execute_result",
          "data": {
            "text/plain": [
              "True"
            ]
          },
          "metadata": {},
          "execution_count": 5
        }
      ]
    },
    {
      "cell_type": "code",
      "source": [
        "not ((5 > 4) or (3 == 5))"
      ],
      "metadata": {
        "colab": {
          "base_uri": "https://localhost:8080/"
        },
        "id": "dynBHdXSlsjK",
        "outputId": "867bdac5-90a5-4144-81e7-86c9a3842057"
      },
      "execution_count": null,
      "outputs": [
        {
          "output_type": "execute_result",
          "data": {
            "text/plain": [
              "False"
            ]
          },
          "metadata": {},
          "execution_count": 6
        }
      ]
    },
    {
      "cell_type": "code",
      "source": [
        "(True and True) and (True == False)"
      ],
      "metadata": {
        "colab": {
          "base_uri": "https://localhost:8080/"
        },
        "id": "n1CtWkEWl0DP",
        "outputId": "aaba2cac-f6cf-44ec-984a-3f1e3c871b79"
      },
      "execution_count": null,
      "outputs": [
        {
          "output_type": "execute_result",
          "data": {
            "text/plain": [
              "False"
            ]
          },
          "metadata": {},
          "execution_count": 7
        }
      ]
    },
    {
      "cell_type": "code",
      "source": [
        "(not False) or (not True)"
      ],
      "metadata": {
        "colab": {
          "base_uri": "https://localhost:8080/"
        },
        "id": "rqg6WTXel4s3",
        "outputId": "178a7c57-b3b2-4f37-fe57-327cd91609dc"
      },
      "execution_count": null,
      "outputs": [
        {
          "output_type": "execute_result",
          "data": {
            "text/plain": [
              "True"
            ]
          },
          "metadata": {},
          "execution_count": 8
        }
      ]
    },
    {
      "cell_type": "markdown",
      "source": [
        "6. How do you tell the difference between the equal to and assignment operators? Describe a condition and when you would use one."
      ],
      "metadata": {
        "id": "y7Hdvds3f3UG"
      }
    },
    {
      "cell_type": "markdown",
      "source": [
        "Ans: \n",
        "- Equal to operator (==): It checks whether the two given operands are equal or not. If so, it returns true. Otherwise it returns false.\n",
        "```\n",
        "Example\n",
        "5==5\n",
        "Output: True\n",
        "```\n",
        "- Assignment operator (=): It is used to assign the value on the right to the variable on the left. \n",
        "```\n",
        "Example\n",
        "a=10\n",
        "```\n"
      ],
      "metadata": {
        "id": "z_7i5RD7l9pr"
      }
    },
    {
      "cell_type": "markdown",
      "source": [
        "7. Identify the three blocks in this code:\n",
        "```\n",
        "spam = 0\n",
        "if spam == 10:\n",
        "print('eggs')\n",
        "if spam > 5:\n",
        "print('bacon')\n",
        "else:\n",
        "print('ham')\n",
        "print('spam')\n",
        "print('spam')\n",
        "```"
      ],
      "metadata": {
        "id": "zqtxcmlSf39O"
      }
    },
    {
      "cell_type": "code",
      "source": [
        "spam = 0\n",
        "if spam == 10:      # First Block\n",
        "  print('eggs')\n",
        "if spam > 5:        # Second Block\n",
        "  print('bacon')\n",
        "else:               # Third Block\n",
        "  print('ham')\n",
        "  print('spam')\n",
        "  print('spam')"
      ],
      "metadata": {
        "colab": {
          "base_uri": "https://localhost:8080/"
        },
        "id": "QthJ8LwHqk8_",
        "outputId": "45961ab7-86e5-4e1b-ce94-c9897bdd676c"
      },
      "execution_count": null,
      "outputs": [
        {
          "output_type": "stream",
          "name": "stdout",
          "text": [
            "ham\n",
            "spam\n",
            "spam\n"
          ]
        }
      ]
    },
    {
      "cell_type": "markdown",
      "source": [
        "8. Write code that prints Hello if 1 is stored in spam, prints Howdy if 2 is stored in spam, and prints Greetings! if anything else is stored in spam."
      ],
      "metadata": {
        "id": "RKSqEcrvf4SC"
      }
    },
    {
      "cell_type": "code",
      "source": [
        "spam=int(input(\"Enter spam value: \"))\n",
        "if spam==1:\n",
        "  print(\"Hello\")\n",
        "elif spam==2:\n",
        "  print(\"Howdy\")\n",
        "else:\n",
        "  print(\"Greetings\")"
      ],
      "metadata": {
        "colab": {
          "base_uri": "https://localhost:8080/"
        },
        "id": "2vJH367grAqs",
        "outputId": "d2cd3ef8-545f-4ed1-a6b9-c470fa13fb12"
      },
      "execution_count": null,
      "outputs": [
        {
          "output_type": "stream",
          "name": "stdout",
          "text": [
            "Enter spam value: 5\n",
            "Greetings\n"
          ]
        }
      ]
    },
    {
      "cell_type": "markdown",
      "source": [
        "9. If your programme is stuck in an endless loop, what keys you’ll press?"
      ],
      "metadata": {
        "id": "7J8YfTwff4iU"
      }
    },
    {
      "cell_type": "markdown",
      "source": [
        "Ans: If a programme is stuck in an endless loop, then we have to press \"Control+C\""
      ],
      "metadata": {
        "id": "-8Q1Ebzar2ET"
      }
    },
    {
      "cell_type": "markdown",
      "source": [
        "10. How can you tell the difference between break and continue?"
      ],
      "metadata": {
        "id": "4W3WgiB-f4zE"
      }
    },
    {
      "cell_type": "markdown",
      "source": [
        "Ans: \n",
        "- Break statement: If break statement is encountered inside a loop; then stop the loop and don't proceed at all.  it completely stops the loop.\n",
        "\n",
        "- Continue statement:  it skips the current loop or it skips all the statement after continue keyword"
      ],
      "metadata": {
        "id": "4hVAKGyVuvOX"
      }
    },
    {
      "cell_type": "markdown",
      "source": [
        "11. In a for loop, what is the difference between range(10), range(0, 10), and range(0, 10, 1)?"
      ],
      "metadata": {
        "id": "0LWGV9Nyf5GH"
      }
    },
    {
      "cell_type": "code",
      "source": [
        "print(list(range(10))) # It generates nos between 0 to 10: 0,1,2,3,4,5,6,7,8,9\n",
        "print(list(range(0,10))) # range(start_index,stop_index) \n",
        "print(list(range(0,10,1))) # range(start_index,stop_index,step_size) "
      ],
      "metadata": {
        "colab": {
          "base_uri": "https://localhost:8080/"
        },
        "id": "MhFOuuFpyLqW",
        "outputId": "ac491a76-2e21-4b8c-ead9-0779f867fd05"
      },
      "execution_count": null,
      "outputs": [
        {
          "output_type": "stream",
          "name": "stdout",
          "text": [
            "[0, 1, 2, 3, 4, 5, 6, 7, 8, 9]\n",
            "[0, 1, 2, 3, 4, 5, 6, 7, 8, 9]\n",
            "[0, 1, 2, 3, 4, 5, 6, 7, 8, 9]\n"
          ]
        }
      ]
    },
    {
      "cell_type": "markdown",
      "source": [
        "12. Write a short program that prints the numbers 1 to 10 using a for loop. Then write an equivalent program that prints the numbers 1 to 10 using a while loop."
      ],
      "metadata": {
        "id": "xJIHMC9Nf5Vx"
      }
    },
    {
      "cell_type": "code",
      "source": [
        "for i in range(1,11):\n",
        "  print(i)"
      ],
      "metadata": {
        "colab": {
          "base_uri": "https://localhost:8080/"
        },
        "id": "J6CCsyX3zYjb",
        "outputId": "a17c398e-cb85-4316-8e23-d8b95d6f9f60"
      },
      "execution_count": null,
      "outputs": [
        {
          "output_type": "stream",
          "name": "stdout",
          "text": [
            "1\n",
            "2\n",
            "3\n",
            "4\n",
            "5\n",
            "6\n",
            "7\n",
            "8\n",
            "9\n",
            "10\n"
          ]
        }
      ]
    },
    {
      "cell_type": "code",
      "source": [
        "count=1\n",
        "while count<=10:\n",
        "  print(count)\n",
        "  count=count+1\n",
        "  \n",
        "  "
      ],
      "metadata": {
        "colab": {
          "base_uri": "https://localhost:8080/"
        },
        "id": "OyyaxxDxzpMB",
        "outputId": "3f48ef4d-c29c-491e-a884-eb7a198808d1"
      },
      "execution_count": null,
      "outputs": [
        {
          "output_type": "stream",
          "name": "stdout",
          "text": [
            "1\n",
            "2\n",
            "3\n",
            "4\n",
            "5\n",
            "6\n",
            "7\n",
            "8\n",
            "9\n",
            "10\n"
          ]
        }
      ]
    },
    {
      "cell_type": "markdown",
      "source": [
        "13. If you had a function named bacon() inside a module named spam, how would you call it after importing spam?"
      ],
      "metadata": {
        "id": "n4Ye27Dzf5la"
      }
    },
    {
      "cell_type": "markdown",
      "source": [
        "Ans: To call a function bacon() inside the module spam the following syntax is used.\n",
        "\n",
        "```\n",
        "import spam\n",
        "spam.bacon()\n",
        "```"
      ],
      "metadata": {
        "id": "-sROLsVG1Ppr"
      }
    }
  ]
}